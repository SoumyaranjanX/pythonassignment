{
  "nbformat": 4,
  "nbformat_minor": 0,
  "metadata": {
    "colab": {
      "provenance": [],
      "include_colab_link": true
    },
    "kernelspec": {
      "name": "python3",
      "display_name": "Python 3"
    },
    "language_info": {
      "name": "python"
    }
  },
  "cells": [
    {
      "cell_type": "markdown",
      "metadata": {
        "id": "view-in-github",
        "colab_type": "text"
      },
      "source": [
        "<a href=\"https://colab.research.google.com/github/SoumyaranjanX/pythonassignment/blob/main/Python_Assignment.ipynb\" target=\"_parent\"><img src=\"https://colab.research.google.com/assets/colab-badge.svg\" alt=\"Open In Colab\"/></a>"
      ]
    },
    {
      "cell_type": "markdown",
      "source": [
        "PYTHON ASSIGNMENT\n",
        "--------------------\n",
        "**SARJUNA PARVEEN TP**\n",
        "\n",
        "**REG NO ; 21370052**\n",
        "\n",
        "**2ND BATCH**\n",
        "\n",
        "**MSC COMPUTER SCIENCE**"
      ],
      "metadata": {
        "id": "7PNo2frFFwcN"
      }
    },
    {
      "cell_type": "markdown",
      "source": [
        "Q1.You are a Marvel fan and created a list of superheroes . avengers = [‘Iron Man’, ‘Captain America’, ‘Black Widow’ , ‘Hulk’, ‘Thor’, ‘Hawkeye’] Using this list, do the following: i. Calculate how many members in the Avengers team?\n",
        "\n",
        "ii. Iron Man made SpiderMan a new member of the Avengers, add him to your list.\n",
        "\n",
        "iii. Captain America is the leader of the Avengers, you n eed to add him before the Iron Man, so remove him from th e list and add before the Iron Man.\n",
        "\n",
        "iv. You don’t like Thor and Hulk together because they go t angry easily and fight with each other. So you have to separate them with each other. To separate them, either m ove “Black Widow” or “Hawkeye” in between them.\n",
        "\n",
        "v. After Avengers: End Game the original six avengers are retired, now you need to remove them from your list and add new superheroes like Doctor Strange, Vision, Wanda, K ate Bishop and Ant-Man.\n",
        "\n",
        "vi. As “Captain America” is also retired and now currentl y, no one is leader, so sort the list in alphabetical ord er. Whoever will come at 0th index will become the Leader . (BONUS: can you guess who will become the leader)\n"
      ],
      "metadata": {
        "id": "BGmXtj5jEncq"
      }
    },
    {
      "cell_type": "code",
      "source": [
        "avengers = ['Iron Man','Captain America','Black Widow','Hulk','Thor','Hawkeye']\n",
        "\n",
        "total_members = len(avengers)\n",
        "\n",
        "print(\"1. Total members in the Avengers team : \", total_members)\n",
        "avengers.append('Spider-Man')\n",
        "print('2. After adding Spider-Man into Avengers team: ',avengers)\n",
        "avengers.remove('Captain America')\n",
        "avengers.insert(0,'Captain America')\n",
        "print('3. Updated Avengers team after making Captain America as Team leader: ',avengers)\n",
        "avengers[2]='Hulk'\n",
        "avengers[3]='Black Widow'\n",
        "print('4. After separating Hulk and Thor: ',avengers)\n",
        "for i in range(6):\n",
        "    avengers.pop()\n",
        "avengers.append('Doctor Strange')\n",
        "avengers.append('Vision')\n",
        "avengers.append('Wanda')\n",
        "avengers.append('Kate')\n",
        "avengers.append('Bishop')\n",
        "avengers.append('Ant-Man')\n",
        "print(\"5. New Avengers Team: \",avengers)\n",
        "\n",
        "avengers.remove('Captain America')\n",
        "avengers.sort()\n",
        "print(\"6. After sorting Ant-Man become the Captain: \",avengers)"
      ],
      "metadata": {
        "colab": {
          "base_uri": "https://localhost:8080/"
        },
        "id": "v28HDSNbEwwY",
        "outputId": "79584405-59d8-4d82-de32-5c896ec1cea4"
      },
      "execution_count": null,
      "outputs": [
        {
          "output_type": "stream",
          "name": "stdout",
          "text": [
            "1. Total members in the Avengers team :  6\n",
            "2. After adding Spider-Man into Avengers team:  ['Iron Man', 'Captain America', 'Black Widow', 'Hulk', 'Thor', 'Hawkeye', 'Spider-Man']\n",
            "3. Updated Avengers team after making Captain America as Team leader:  ['Captain America', 'Iron Man', 'Black Widow', 'Hulk', 'Thor', 'Hawkeye', 'Spider-Man']\n",
            "4. After separating Hulk and Thor:  ['Captain America', 'Iron Man', 'Hulk', 'Black Widow', 'Thor', 'Hawkeye', 'Spider-Man']\n",
            "5. New Avengers Team:  ['Captain America', 'Doctor Strange', 'Vision', 'Wanda', 'Kate', 'Bishop', 'Ant-Man']\n",
            "6. After sorting Ant-Man become the Captain:  ['Ant-Man', 'Bishop', 'Doctor Strange', 'Kate', 'Vision', 'Wanda']\n"
          ]
        }
      ]
    },
    {
      "cell_type": "markdown",
      "source": [
        "Q2. Create a variable and store the string “The Himalayas are one of the youngest mountain range on the planet.” i. Print ‘The Himalayas’ using slice operator\n",
        "\n",
        "ii. Print “mountain range” using negative index\n",
        "\n",
        "iii. Print “The Himalayas on the planet” using slice operation.\n",
        "\n"
      ],
      "metadata": {
        "id": "jEZTM0cRFD-G"
      }
    },
    {
      "cell_type": "code",
      "source": [
        "str='The Himalayas are one of the youngest mountain range on the planet.'\n",
        "print(\"1. \",str[:13])\n",
        "print(\"2. \",str[-29:-15])\n",
        "print(\"3. \",str[:13]+ str[52:])"
      ],
      "metadata": {
        "colab": {
          "base_uri": "https://localhost:8080/"
        },
        "id": "46b7yq-vFFi7",
        "outputId": "044a7de2-ed6e-4742-bdad-a36bb14b5720"
      },
      "execution_count": null,
      "outputs": [
        {
          "output_type": "stream",
          "name": "stdout",
          "text": [
            "1.  The Himalayas\n",
            "2.  mountain range\n",
            "3.  The Himalayas on the planet.\n"
          ]
        }
      ]
    }
  ]
}